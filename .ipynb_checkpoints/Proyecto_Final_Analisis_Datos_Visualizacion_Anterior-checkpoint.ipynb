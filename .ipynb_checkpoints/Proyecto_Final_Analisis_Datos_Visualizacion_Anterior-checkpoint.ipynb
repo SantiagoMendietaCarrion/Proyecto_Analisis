{
 "cells": [
  {
   "cell_type": "markdown",
   "metadata": {},
   "source": [
    "# Análisis de datos y visualización\n",
    "## Proyecto académico final\n",
    " - Nombres: Rafael Castro Merino, Santiago Mendieta Carrion  \n",
    " - Fecha: 26/05/2024"
   ]
  },
  {
   "cell_type": "markdown",
   "metadata": {},
   "source": [
    "## Carga del dataset: Sales prediction dataset\n",
    "\n",
    "El conjunto de datos contiene información de compras de automóviles.\n",
    "\n",
    "- Número de filas: 500\n",
    "\n",
    "- Número de atributos/variables: 9 variables (3 categóricas y 6 numéricas).\n",
    "\n",
    "- Información de las variables:\n",
    "    - **customer name:** nombre del cliente\n",
    "    - **customer e-mail:** correo electrónico del cliente\n",
    "    - **country:** país de origen y de residencia del cliente\n",
    "    - **gender:** género del cliente (0 para Femenino, 1 para Masculino)\n",
    "    - **age:** edad del cliente\n",
    "    - **annual Salary:** salario anual del cliente\n",
    "    - **credit card debt:** deudas en la tarjeta de crédito del cliente\n",
    "    - **net worth:** patrimonio neto del cliente(activos menos pasivos)\n",
    "    - **car purchase amount:** monto de compra del automóvil que realiza el cliente\n",
    "  \n",
    "**Valores nulos:** Ninguno\n",
    "\n",
    "**Autor:** Mohd Shahnawaz Aadil \n",
    "\n",
    "Se usará una copia del dataset \"car_purchasing\", disponible en Kaggle (\"Sales prediction dataset\"): https://www.kaggle.com/datasets/mohdshahnawazaadil/sales-prediction-dataset/data"
   ]
  },
  {
   "cell_type": "code",
   "execution_count": 27,
   "metadata": {},
   "outputs": [],
   "source": [
    "# Librerías a utilizar\n",
    "import pandas as pd\n",
    "import numpy as np\n",
    "import matplotlib.pyplot as plt\n",
    "import warnings\n",
    "\n",
    "# Métodos de regresión no lineal:\n",
    "\n",
    "from sklearn.tree import DecisionTreeRegressor\n",
    "from sklearn.ensemble import RandomForestRegressor\n",
    "from sklearn.svm import SVR\n",
    "\n",
    "from sklearn.pipeline import make_pipeline\n",
    "from sklearn.preprocessing import StandardScaler\n",
    "from sklearn.metrics import mean_squared_error\n",
    "from sklearn.metrics import r2_score\n",
    "\n",
    "from sklearn import preprocessing # para el escalado\n",
    "\n",
    "from sklearn.model_selection import GridSearchCV # para búsqueda de hiperparámetros\n",
    "\n",
    "### Preparación de datasets (entrenamiento y test)\n",
    "from sklearn.model_selection import train_test_split\n",
    "import calendar\n"
   ]
  },
  {
   "cell_type": "code",
   "execution_count": 28,
   "metadata": {},
   "outputs": [
    {
     "data": {
      "text/html": [
       "<div>\n",
       "<style scoped>\n",
       "    .dataframe tbody tr th:only-of-type {\n",
       "        vertical-align: middle;\n",
       "    }\n",
       "\n",
       "    .dataframe tbody tr th {\n",
       "        vertical-align: top;\n",
       "    }\n",
       "\n",
       "    .dataframe thead th {\n",
       "        text-align: right;\n",
       "    }\n",
       "</style>\n",
       "<table border=\"1\" class=\"dataframe\">\n",
       "  <thead>\n",
       "    <tr style=\"text-align: right;\">\n",
       "      <th></th>\n",
       "      <th>customer name</th>\n",
       "      <th>customer e-mail</th>\n",
       "      <th>country</th>\n",
       "      <th>gender</th>\n",
       "      <th>age</th>\n",
       "      <th>annual Salary</th>\n",
       "      <th>credit card debt</th>\n",
       "      <th>net worth</th>\n",
       "      <th>car purchase amount</th>\n",
       "    </tr>\n",
       "  </thead>\n",
       "  <tbody>\n",
       "    <tr>\n",
       "      <th>0</th>\n",
       "      <td>Martina Avila</td>\n",
       "      <td>cubilia.Curae.Phasellus@quisaccumsanconvallis.edu</td>\n",
       "      <td>Bulgaria</td>\n",
       "      <td>0</td>\n",
       "      <td>41.851720</td>\n",
       "      <td>62812.09301</td>\n",
       "      <td>11609.380910</td>\n",
       "      <td>238961.2505</td>\n",
       "      <td>35321.45877</td>\n",
       "    </tr>\n",
       "    <tr>\n",
       "      <th>1</th>\n",
       "      <td>Harlan Barnes</td>\n",
       "      <td>eu.dolor@diam.co.uk</td>\n",
       "      <td>Belize</td>\n",
       "      <td>0</td>\n",
       "      <td>40.870623</td>\n",
       "      <td>66646.89292</td>\n",
       "      <td>9572.957136</td>\n",
       "      <td>530973.9078</td>\n",
       "      <td>45115.52566</td>\n",
       "    </tr>\n",
       "    <tr>\n",
       "      <th>2</th>\n",
       "      <td>Naomi Rodriquez</td>\n",
       "      <td>vulputate.mauris.sagittis@ametconsectetueradip...</td>\n",
       "      <td>Algeria</td>\n",
       "      <td>1</td>\n",
       "      <td>43.152897</td>\n",
       "      <td>53798.55112</td>\n",
       "      <td>11160.355060</td>\n",
       "      <td>638467.1773</td>\n",
       "      <td>42925.70921</td>\n",
       "    </tr>\n",
       "    <tr>\n",
       "      <th>3</th>\n",
       "      <td>Jade Cunningham</td>\n",
       "      <td>malesuada@dignissim.com</td>\n",
       "      <td>Cook Islands</td>\n",
       "      <td>1</td>\n",
       "      <td>58.271369</td>\n",
       "      <td>79370.03798</td>\n",
       "      <td>14426.164850</td>\n",
       "      <td>548599.0524</td>\n",
       "      <td>67422.36313</td>\n",
       "    </tr>\n",
       "    <tr>\n",
       "      <th>4</th>\n",
       "      <td>Cedric Leach</td>\n",
       "      <td>felis.ullamcorper.viverra@egetmollislectus.net</td>\n",
       "      <td>Brazil</td>\n",
       "      <td>1</td>\n",
       "      <td>57.313749</td>\n",
       "      <td>59729.15130</td>\n",
       "      <td>5358.712177</td>\n",
       "      <td>560304.0671</td>\n",
       "      <td>55915.46248</td>\n",
       "    </tr>\n",
       "    <tr>\n",
       "      <th>5</th>\n",
       "      <td>Carla Hester</td>\n",
       "      <td>mi@Aliquamerat.edu</td>\n",
       "      <td>Liberia</td>\n",
       "      <td>1</td>\n",
       "      <td>56.824893</td>\n",
       "      <td>68499.85162</td>\n",
       "      <td>14179.472440</td>\n",
       "      <td>428485.3604</td>\n",
       "      <td>56611.99784</td>\n",
       "    </tr>\n",
       "    <tr>\n",
       "      <th>6</th>\n",
       "      <td>Griffin Rivera</td>\n",
       "      <td>vehicula@at.co.uk</td>\n",
       "      <td>Syria</td>\n",
       "      <td>1</td>\n",
       "      <td>46.607315</td>\n",
       "      <td>39814.52200</td>\n",
       "      <td>5958.460188</td>\n",
       "      <td>326373.1812</td>\n",
       "      <td>28925.70549</td>\n",
       "    </tr>\n",
       "    <tr>\n",
       "      <th>7</th>\n",
       "      <td>Orli Casey</td>\n",
       "      <td>nunc.est.mollis@Suspendissetristiqueneque.co.uk</td>\n",
       "      <td>Czech Republic</td>\n",
       "      <td>1</td>\n",
       "      <td>50.193016</td>\n",
       "      <td>51752.23445</td>\n",
       "      <td>10985.696560</td>\n",
       "      <td>629312.4041</td>\n",
       "      <td>47434.98265</td>\n",
       "    </tr>\n",
       "    <tr>\n",
       "      <th>8</th>\n",
       "      <td>Marny Obrien</td>\n",
       "      <td>Phasellus@sedsemegestas.org</td>\n",
       "      <td>Armenia</td>\n",
       "      <td>0</td>\n",
       "      <td>46.584745</td>\n",
       "      <td>58139.25910</td>\n",
       "      <td>3440.823799</td>\n",
       "      <td>630059.0274</td>\n",
       "      <td>48013.61410</td>\n",
       "    </tr>\n",
       "    <tr>\n",
       "      <th>9</th>\n",
       "      <td>Rhonda Chavez</td>\n",
       "      <td>nec@nuncest.com</td>\n",
       "      <td>Somalia</td>\n",
       "      <td>1</td>\n",
       "      <td>43.323782</td>\n",
       "      <td>53457.10132</td>\n",
       "      <td>12884.078680</td>\n",
       "      <td>476643.3544</td>\n",
       "      <td>38189.50601</td>\n",
       "    </tr>\n",
       "  </tbody>\n",
       "</table>\n",
       "</div>"
      ],
      "text/plain": [
       "     customer name                                    customer e-mail  \\\n",
       "0    Martina Avila  cubilia.Curae.Phasellus@quisaccumsanconvallis.edu   \n",
       "1    Harlan Barnes                                eu.dolor@diam.co.uk   \n",
       "2  Naomi Rodriquez  vulputate.mauris.sagittis@ametconsectetueradip...   \n",
       "3  Jade Cunningham                            malesuada@dignissim.com   \n",
       "4     Cedric Leach     felis.ullamcorper.viverra@egetmollislectus.net   \n",
       "5     Carla Hester                                 mi@Aliquamerat.edu   \n",
       "6   Griffin Rivera                                  vehicula@at.co.uk   \n",
       "7       Orli Casey    nunc.est.mollis@Suspendissetristiqueneque.co.uk   \n",
       "8     Marny Obrien                        Phasellus@sedsemegestas.org   \n",
       "9    Rhonda Chavez                                    nec@nuncest.com   \n",
       "\n",
       "          country  gender        age  annual Salary  credit card debt  \\\n",
       "0        Bulgaria       0  41.851720    62812.09301      11609.380910   \n",
       "1          Belize       0  40.870623    66646.89292       9572.957136   \n",
       "2         Algeria       1  43.152897    53798.55112      11160.355060   \n",
       "3    Cook Islands       1  58.271369    79370.03798      14426.164850   \n",
       "4          Brazil       1  57.313749    59729.15130       5358.712177   \n",
       "5         Liberia       1  56.824893    68499.85162      14179.472440   \n",
       "6           Syria       1  46.607315    39814.52200       5958.460188   \n",
       "7  Czech Republic       1  50.193016    51752.23445      10985.696560   \n",
       "8         Armenia       0  46.584745    58139.25910       3440.823799   \n",
       "9         Somalia       1  43.323782    53457.10132      12884.078680   \n",
       "\n",
       "     net worth  car purchase amount  \n",
       "0  238961.2505          35321.45877  \n",
       "1  530973.9078          45115.52566  \n",
       "2  638467.1773          42925.70921  \n",
       "3  548599.0524          67422.36313  \n",
       "4  560304.0671          55915.46248  \n",
       "5  428485.3604          56611.99784  \n",
       "6  326373.1812          28925.70549  \n",
       "7  629312.4041          47434.98265  \n",
       "8  630059.0274          48013.61410  \n",
       "9  476643.3544          38189.50601  "
      ]
     },
     "execution_count": 28,
     "metadata": {},
     "output_type": "execute_result"
    }
   ],
   "source": [
    "#Carga del dataset:\n",
    "\n",
    "data_url = \"car_purchasing.csv\"\n",
    "data = pd.read_csv(data_url, sep=',', header=0, encoding='latin-1')\n",
    "data[:10]      #Muestra del dataset"
   ]
  },
  {
   "cell_type": "code",
   "execution_count": 29,
   "metadata": {},
   "outputs": [
    {
     "data": {
      "text/html": [
       "<div>\n",
       "<style scoped>\n",
       "    .dataframe tbody tr th:only-of-type {\n",
       "        vertical-align: middle;\n",
       "    }\n",
       "\n",
       "    .dataframe tbody tr th {\n",
       "        vertical-align: top;\n",
       "    }\n",
       "\n",
       "    .dataframe thead th {\n",
       "        text-align: right;\n",
       "    }\n",
       "</style>\n",
       "<table border=\"1\" class=\"dataframe\">\n",
       "  <thead>\n",
       "    <tr style=\"text-align: right;\">\n",
       "      <th></th>\n",
       "      <th>customer name</th>\n",
       "      <th>customer e-mail</th>\n",
       "      <th>country</th>\n",
       "      <th>gender</th>\n",
       "      <th>age</th>\n",
       "      <th>annual Salary</th>\n",
       "      <th>credit card debt</th>\n",
       "      <th>net worth</th>\n",
       "      <th>car purchase amount</th>\n",
       "    </tr>\n",
       "  </thead>\n",
       "  <tbody>\n",
       "    <tr>\n",
       "      <th>88</th>\n",
       "      <td>Eagan Woodward</td>\n",
       "      <td>varius.et@Maecenas.edu</td>\n",
       "      <td>Indonesia</td>\n",
       "      <td>1</td>\n",
       "      <td>58.425733</td>\n",
       "      <td>58065.25694</td>\n",
       "      <td>4204.920492</td>\n",
       "      <td>388498.5102</td>\n",
       "      <td>50937.93844</td>\n",
       "    </tr>\n",
       "    <tr>\n",
       "      <th>347</th>\n",
       "      <td>Bush, Jessica C.</td>\n",
       "      <td>dolor.sit.amet@iaculisneceleifend.ca</td>\n",
       "      <td>Micronesia</td>\n",
       "      <td>0</td>\n",
       "      <td>46.911891</td>\n",
       "      <td>56692.78044</td>\n",
       "      <td>7946.435929</td>\n",
       "      <td>685541.6501</td>\n",
       "      <td>49079.29461</td>\n",
       "    </tr>\n",
       "    <tr>\n",
       "      <th>113</th>\n",
       "      <td>Todd Maldonado</td>\n",
       "      <td>dui.semper.et@aultricies.net</td>\n",
       "      <td>Solomon Islands</td>\n",
       "      <td>0</td>\n",
       "      <td>58.466608</td>\n",
       "      <td>50649.64492</td>\n",
       "      <td>11211.720160</td>\n",
       "      <td>565932.1861</td>\n",
       "      <td>51941.67560</td>\n",
       "    </tr>\n",
       "    <tr>\n",
       "      <th>62</th>\n",
       "      <td>Gareth Morris</td>\n",
       "      <td>est.Nunc.laoreet@nullavulputatedui.edu</td>\n",
       "      <td>Iceland</td>\n",
       "      <td>0</td>\n",
       "      <td>54.558689</td>\n",
       "      <td>69236.68608</td>\n",
       "      <td>9842.842611</td>\n",
       "      <td>242495.9886</td>\n",
       "      <td>49730.53339</td>\n",
       "    </tr>\n",
       "    <tr>\n",
       "      <th>291</th>\n",
       "      <td>Rachel E. Suarez</td>\n",
       "      <td>non.vestibulum.nec@euturpis.co.uk</td>\n",
       "      <td>Guam</td>\n",
       "      <td>1</td>\n",
       "      <td>58.981594</td>\n",
       "      <td>70111.53980</td>\n",
       "      <td>7949.463649</td>\n",
       "      <td>239217.6732</td>\n",
       "      <td>53848.75550</td>\n",
       "    </tr>\n",
       "    <tr>\n",
       "      <th>42</th>\n",
       "      <td>Ryder Shaffer</td>\n",
       "      <td>Phasellus.dapibus.quam@inhendrerit.ca</td>\n",
       "      <td>Georgia</td>\n",
       "      <td>0</td>\n",
       "      <td>37.584596</td>\n",
       "      <td>50571.45969</td>\n",
       "      <td>13338.328520</td>\n",
       "      <td>348833.8403</td>\n",
       "      <td>28031.20985</td>\n",
       "    </tr>\n",
       "    <tr>\n",
       "      <th>181</th>\n",
       "      <td>Burton Carroll</td>\n",
       "      <td>rhoncus.id.mollis@Maurisvel.org</td>\n",
       "      <td>Algeria</td>\n",
       "      <td>0</td>\n",
       "      <td>42.144445</td>\n",
       "      <td>60432.40367</td>\n",
       "      <td>11417.462570</td>\n",
       "      <td>415005.3584</td>\n",
       "      <td>39331.20127</td>\n",
       "    </tr>\n",
       "    <tr>\n",
       "      <th>481</th>\n",
       "      <td>Heather</td>\n",
       "      <td>erat.Etiam@elementum.org</td>\n",
       "      <td>Madagascar</td>\n",
       "      <td>1</td>\n",
       "      <td>29.034521</td>\n",
       "      <td>55433.61187</td>\n",
       "      <td>10769.750590</td>\n",
       "      <td>276466.6203</td>\n",
       "      <td>21471.11367</td>\n",
       "    </tr>\n",
       "    <tr>\n",
       "      <th>413</th>\n",
       "      <td>Cameran</td>\n",
       "      <td>tristique@ligulaAliquam.net</td>\n",
       "      <td>Mauritania</td>\n",
       "      <td>0</td>\n",
       "      <td>48.142571</td>\n",
       "      <td>56944.87077</td>\n",
       "      <td>16449.066500</td>\n",
       "      <td>116407.5289</td>\n",
       "      <td>33766.64130</td>\n",
       "    </tr>\n",
       "    <tr>\n",
       "      <th>485</th>\n",
       "      <td>Dolan</td>\n",
       "      <td>ipsum.Phasellus@egestasblanditNam.edu</td>\n",
       "      <td>Yemen</td>\n",
       "      <td>1</td>\n",
       "      <td>60.416433</td>\n",
       "      <td>39460.00348</td>\n",
       "      <td>8769.290288</td>\n",
       "      <td>571245.3714</td>\n",
       "      <td>47443.74443</td>\n",
       "    </tr>\n",
       "  </tbody>\n",
       "</table>\n",
       "</div>"
      ],
      "text/plain": [
       "        customer name                         customer e-mail  \\\n",
       "88     Eagan Woodward                  varius.et@Maecenas.edu   \n",
       "347  Bush, Jessica C.    dolor.sit.amet@iaculisneceleifend.ca   \n",
       "113    Todd Maldonado            dui.semper.et@aultricies.net   \n",
       "62      Gareth Morris  est.Nunc.laoreet@nullavulputatedui.edu   \n",
       "291  Rachel E. Suarez       non.vestibulum.nec@euturpis.co.uk   \n",
       "42      Ryder Shaffer   Phasellus.dapibus.quam@inhendrerit.ca   \n",
       "181    Burton Carroll         rhoncus.id.mollis@Maurisvel.org   \n",
       "481           Heather                erat.Etiam@elementum.org   \n",
       "413           Cameran             tristique@ligulaAliquam.net   \n",
       "485             Dolan   ipsum.Phasellus@egestasblanditNam.edu   \n",
       "\n",
       "             country  gender        age  annual Salary  credit card debt  \\\n",
       "88         Indonesia       1  58.425733    58065.25694       4204.920492   \n",
       "347       Micronesia       0  46.911891    56692.78044       7946.435929   \n",
       "113  Solomon Islands       0  58.466608    50649.64492      11211.720160   \n",
       "62           Iceland       0  54.558689    69236.68608       9842.842611   \n",
       "291             Guam       1  58.981594    70111.53980       7949.463649   \n",
       "42           Georgia       0  37.584596    50571.45969      13338.328520   \n",
       "181          Algeria       0  42.144445    60432.40367      11417.462570   \n",
       "481       Madagascar       1  29.034521    55433.61187      10769.750590   \n",
       "413       Mauritania       0  48.142571    56944.87077      16449.066500   \n",
       "485            Yemen       1  60.416433    39460.00348       8769.290288   \n",
       "\n",
       "       net worth  car purchase amount  \n",
       "88   388498.5102          50937.93844  \n",
       "347  685541.6501          49079.29461  \n",
       "113  565932.1861          51941.67560  \n",
       "62   242495.9886          49730.53339  \n",
       "291  239217.6732          53848.75550  \n",
       "42   348833.8403          28031.20985  \n",
       "181  415005.3584          39331.20127  \n",
       "481  276466.6203          21471.11367  \n",
       "413  116407.5289          33766.64130  \n",
       "485  571245.3714          47443.74443  "
      ]
     },
     "execution_count": 29,
     "metadata": {},
     "output_type": "execute_result"
    }
   ],
   "source": [
    "data.sample(10)     #Sample del dataset"
   ]
  },
  {
   "cell_type": "markdown",
   "metadata": {},
   "source": [
    "## EDA del dataset"
   ]
  },
  {
   "cell_type": "code",
   "execution_count": 31,
   "metadata": {},
   "outputs": [
    {
     "data": {
      "text/plain": [
       "(500, 9)"
      ]
     },
     "execution_count": 31,
     "metadata": {},
     "output_type": "execute_result"
    }
   ],
   "source": [
    "data.shape    #Dimension del dataset"
   ]
  },
  {
   "cell_type": "code",
   "execution_count": 32,
   "metadata": {},
   "outputs": [
    {
     "name": "stdout",
     "output_type": "stream",
     "text": [
      "<class 'pandas.core.frame.DataFrame'>\n",
      "RangeIndex: 500 entries, 0 to 499\n",
      "Data columns (total 9 columns):\n",
      " #   Column               Non-Null Count  Dtype  \n",
      "---  ------               --------------  -----  \n",
      " 0   customer name        500 non-null    object \n",
      " 1   customer e-mail      500 non-null    object \n",
      " 2   country              500 non-null    object \n",
      " 3   gender               500 non-null    int64  \n",
      " 4   age                  500 non-null    float64\n",
      " 5   annual Salary        500 non-null    float64\n",
      " 6   credit card debt     500 non-null    float64\n",
      " 7   net worth            500 non-null    float64\n",
      " 8   car purchase amount  500 non-null    float64\n",
      "dtypes: float64(5), int64(1), object(3)\n",
      "memory usage: 35.3+ KB\n"
     ]
    }
   ],
   "source": [
    "data.info()"
   ]
  },
  {
   "cell_type": "code",
   "execution_count": 33,
   "metadata": {},
   "outputs": [
    {
     "data": {
      "text/html": [
       "<div>\n",
       "<style scoped>\n",
       "    .dataframe tbody tr th:only-of-type {\n",
       "        vertical-align: middle;\n",
       "    }\n",
       "\n",
       "    .dataframe tbody tr th {\n",
       "        vertical-align: top;\n",
       "    }\n",
       "\n",
       "    .dataframe thead th {\n",
       "        text-align: right;\n",
       "    }\n",
       "</style>\n",
       "<table border=\"1\" class=\"dataframe\">\n",
       "  <thead>\n",
       "    <tr style=\"text-align: right;\">\n",
       "      <th></th>\n",
       "      <th>gender</th>\n",
       "      <th>age</th>\n",
       "      <th>annual Salary</th>\n",
       "      <th>credit card debt</th>\n",
       "      <th>net worth</th>\n",
       "      <th>car purchase amount</th>\n",
       "    </tr>\n",
       "  </thead>\n",
       "  <tbody>\n",
       "    <tr>\n",
       "      <th>count</th>\n",
       "      <td>500.000000</td>\n",
       "      <td>500.000000</td>\n",
       "      <td>500.000000</td>\n",
       "      <td>500.000000</td>\n",
       "      <td>500.000000</td>\n",
       "      <td>500.000000</td>\n",
       "    </tr>\n",
       "    <tr>\n",
       "      <th>mean</th>\n",
       "      <td>0.506000</td>\n",
       "      <td>46.241674</td>\n",
       "      <td>62127.239608</td>\n",
       "      <td>9607.645049</td>\n",
       "      <td>431475.713625</td>\n",
       "      <td>44209.799218</td>\n",
       "    </tr>\n",
       "    <tr>\n",
       "      <th>std</th>\n",
       "      <td>0.500465</td>\n",
       "      <td>7.978862</td>\n",
       "      <td>11703.378228</td>\n",
       "      <td>3489.187973</td>\n",
       "      <td>173536.756340</td>\n",
       "      <td>10773.178744</td>\n",
       "    </tr>\n",
       "    <tr>\n",
       "      <th>min</th>\n",
       "      <td>0.000000</td>\n",
       "      <td>20.000000</td>\n",
       "      <td>20000.000000</td>\n",
       "      <td>100.000000</td>\n",
       "      <td>20000.000000</td>\n",
       "      <td>9000.000000</td>\n",
       "    </tr>\n",
       "    <tr>\n",
       "      <th>25%</th>\n",
       "      <td>0.000000</td>\n",
       "      <td>40.949969</td>\n",
       "      <td>54391.977195</td>\n",
       "      <td>7397.515792</td>\n",
       "      <td>299824.195900</td>\n",
       "      <td>37629.896040</td>\n",
       "    </tr>\n",
       "    <tr>\n",
       "      <th>50%</th>\n",
       "      <td>1.000000</td>\n",
       "      <td>46.049901</td>\n",
       "      <td>62915.497035</td>\n",
       "      <td>9655.035568</td>\n",
       "      <td>426750.120650</td>\n",
       "      <td>43997.783390</td>\n",
       "    </tr>\n",
       "    <tr>\n",
       "      <th>75%</th>\n",
       "      <td>1.000000</td>\n",
       "      <td>51.612263</td>\n",
       "      <td>70117.862005</td>\n",
       "      <td>11798.867487</td>\n",
       "      <td>557324.478725</td>\n",
       "      <td>51254.709517</td>\n",
       "    </tr>\n",
       "    <tr>\n",
       "      <th>max</th>\n",
       "      <td>1.000000</td>\n",
       "      <td>70.000000</td>\n",
       "      <td>100000.000000</td>\n",
       "      <td>20000.000000</td>\n",
       "      <td>1000000.000000</td>\n",
       "      <td>80000.000000</td>\n",
       "    </tr>\n",
       "  </tbody>\n",
       "</table>\n",
       "</div>"
      ],
      "text/plain": [
       "           gender         age  annual Salary  credit card debt  \\\n",
       "count  500.000000  500.000000     500.000000        500.000000   \n",
       "mean     0.506000   46.241674   62127.239608       9607.645049   \n",
       "std      0.500465    7.978862   11703.378228       3489.187973   \n",
       "min      0.000000   20.000000   20000.000000        100.000000   \n",
       "25%      0.000000   40.949969   54391.977195       7397.515792   \n",
       "50%      1.000000   46.049901   62915.497035       9655.035568   \n",
       "75%      1.000000   51.612263   70117.862005      11798.867487   \n",
       "max      1.000000   70.000000  100000.000000      20000.000000   \n",
       "\n",
       "            net worth  car purchase amount  \n",
       "count      500.000000           500.000000  \n",
       "mean    431475.713625         44209.799218  \n",
       "std     173536.756340         10773.178744  \n",
       "min      20000.000000          9000.000000  \n",
       "25%     299824.195900         37629.896040  \n",
       "50%     426750.120650         43997.783390  \n",
       "75%     557324.478725         51254.709517  \n",
       "max    1000000.000000         80000.000000  "
      ]
     },
     "execution_count": 33,
     "metadata": {},
     "output_type": "execute_result"
    }
   ],
   "source": [
    "data.describe()"
   ]
  },
  {
   "cell_type": "markdown",
   "metadata": {},
   "source": [
    "## Aplicación de modelos de predicción"
   ]
  },
  {
   "cell_type": "markdown",
   "metadata": {},
   "source": [
    "### Asignacion de variables predictoras y variable a predecir"
   ]
  },
  {
   "cell_type": "code",
   "execution_count": 38,
   "metadata": {},
   "outputs": [],
   "source": [
    "column_names=data.columns\n",
    "x_columns = column_names[3:data.shape[1]-1]   #Se descarta las variables categóricas: customer name, customer e-mail y country\n",
    "y_column = column_names[data.shape[1]-1]\n",
    "\n",
    "X = data[x_columns]   # variables predictoras: gender, age, annual Salary, credit card debt y net worth\n",
    "y = data[y_column]    # variable a predecir: car purchase amount"
   ]
  },
  {
   "cell_type": "markdown",
   "metadata": {},
   "source": [
    "### Creación de datasets para el training y testing"
   ]
  },
  {
   "cell_type": "code",
   "execution_count": 39,
   "metadata": {},
   "outputs": [],
   "source": [
    "\n",
    "X_train, X_test,y_train, y_test = train_test_split(X, y,test_size=0.20,random_state=10, shuffle=True)\n"
   ]
  },
  {
   "cell_type": "markdown",
   "metadata": {},
   "source": [
    "## 1. Decision Tree Learning"
   ]
  },
  {
   "cell_type": "markdown",
   "metadata": {},
   "source": [
    "### 1.1 Parámetros clave de un árbol de decisión\n",
    "\n",
    "- <b>max_depth</b> (None | int): es la profundidad máxima de un árbol.\n",
    "    - Se utiliza para controlar el sobreajuste: a una mayor profundidad el modelo aprenderá relaciones muy específicas de del train dataset.\n",
    "    - Si su su valor es <i>None</i>, los nodos se expanden hasta que todas las hojas sean puras o hasta que todas las hojas contengan menos de <i>min_samples_split</i> observaciones.\n",
    "    - Requiere ajuste.\n",
    "\n",
    "\n",
    "- <b>min_samples_split</b>: define el número mínimo de observaciones que se requieren en un nodo para ser considerado para la división.\n",
    "    - Valores demasiado altos pueden provocar un ajuste insuficiente, es decir, impiden que un modelo aprenda relaciones que podrían ser muy específicas de una muestra particular.\n",
    "    - Su valor se puede establecer en alrededor del 0,5-1% de las observaciones. \n",
    "    - Se utiliza para controlar el overfitting, por lo que este es un parámetro que generalmente requiere ajuste.\n",
    "\n",
    "- <b>min_samples_leaf</b>: define las muestras (u observaciones) mínimas requeridas en un nodo terminal u hoja.\n",
    "    - Se utiliza para controlar el sobreajuste similar a <i>min_samples_split</i>.\n",
    "    - Para empezar, se puede establecer en alrededor del 1% de todas las observaciones en el conjunto de datos.\n",
    "    - Un valor demasiado pequeño hace que el modelo sea más propenso a capturar ruido y, por lo tanto, a sobreajustarse.\n",
    "\n",
    "- <b>max_features</b>: número máximo de características a considerar para buscar la mejor división.\n",
    "\n",
    "    - En dataset de pocas características, podemos trabajar con el valor de 1.0, lo cual significa, considerar una variable para la búsqueda.\n",
    "    - En conjuntos de datos grandes, como de 100 variables (m) se puede optar por tomar la raiz cuadrada de m (es decir, 10), o debemos verificar hasta el 30-40% del número total de características.\n",
    "    - Los valores más altos pueden provocar un ajuste excesivo, pero depende de cada caso.\n",
    "      \n",
    "- <b>random_state</b>: La semilla de número aleatorio generada cada vez. Un número aleatorio fijo es importante ya que, de lo contrario, tendríamos resultados diferentes en cada ejecución posterior, especialmente importante en el proceso de ajuste.\n",
    "\n",
    "- <b>max_leaf_nodes</b>: número máximo de nodos terminales u hojas en un árbol.\n",
    "    - Se puede definir en lugar de max_depth. "
   ]
  },
  {
   "cell_type": "markdown",
   "metadata": {},
   "source": [
    "### 1.2 Primer experimento: con todos los parámetros por defecto\n"
   ]
  },
  {
   "cell_type": "code",
   "execution_count": 40,
   "metadata": {},
   "outputs": [
    {
     "name": "stdout",
     "output_type": "stream",
     "text": [
      "          Actual    Predicted\n",
      "151  47604.34591  46380.44732\n",
      "424  31408.62631  29540.87013\n",
      "154  42369.64247  41567.47033\n",
      "190  56579.90338  56499.10202\n",
      "131  38243.66481  36645.56090\n",
      "Max features: 5\n",
      "Depth of the Decision Tree : 16\n"
     ]
    }
   ],
   "source": [
    "#############\n",
    "# Training\n",
    "#############\n",
    "\n",
    "dtr = DecisionTreeRegressor(random_state = 10) # Crear una instancia de DecisionTreeRegressor\n",
    "\n",
    "dtr.fit(X_train, y_train) # crear el modelo a partir del dataset de entrenamiento\n",
    "\n",
    "#############\n",
    "# Predicción\n",
    "predicted = dtr.predict(X_test) # generar predicción para el dataset de test\n",
    "dtr_predictions = pd.DataFrame({'Actual':y_test,'Predicted':predicted}) # imprimir (y_real, y_predicted)\n",
    "print(dtr_predictions[:5])\n",
    "#############\n",
    "\n",
    "\n",
    "#############\n",
    "# Imprimir parámetros usados por el modelo\n",
    "#############\n",
    "print('Max features:', dtr.max_features_) # todas las variables fueron usadas para el split\n",
    "print('Depth of the Decision Tree :', dtr.get_depth()) #  imprimir profundidad del árbol\n"
   ]
  },
  {
   "cell_type": "code",
   "execution_count": 41,
   "metadata": {},
   "outputs": [
    {
     "name": "stdout",
     "output_type": "stream",
     "text": [
      "[0.00199281 0.39851336 0.36866286 0.0062894  0.22454158]\n",
      "Feature importance by sklearn: {'gender': 0.002, 'age': 0.399, 'annual Salary': 0.369, 'credit card debt': 0.006, 'net worth': 0.225}\n"
     ]
    }
   ],
   "source": [
    "#############\n",
    "# Importancia de las variables al momento de crear el modelo:\n",
    "#############\n",
    "\n",
    "importances_sk = dtr.feature_importances_ # obtener coeficientes de variables\n",
    "\n",
    "print(importances_sk) # imprimir coeficientes de variables\n",
    "\n",
    "# Crear un dataframe con las variables y su importancia:\n",
    "feature_importance_sk = {}\n",
    "for i, feature in enumerate(x_columns):\n",
    "    feature_importance_sk[feature] = round(importances_sk[i], 3)\n",
    "\n",
    "print(f\"Feature importance by sklearn: {feature_importance_sk}\")"
   ]
  },
  {
   "cell_type": "code",
   "execution_count": 42,
   "metadata": {},
   "outputs": [
    {
     "name": "stdout",
     "output_type": "stream",
     "text": [
      "accuracy_score on train dataset :  1.0\n",
      "Accuracy of model: 0.837123\n",
      "Mean Squared Error: 15452907.374390\n"
     ]
    }
   ],
   "source": [
    "################################\n",
    "# Evaluación\n",
    "################################\n",
    "\n",
    "# Train dataset:\n",
    "accuracy_train = dtr.score(X_train, y_train)\n",
    "print('accuracy_score on train dataset : ', accuracy_train)\n",
    "\n",
    "# Test dataset:\n",
    "score = dtr.score(X_test,y_test)\n",
    "mseFull = np.mean((y_test - predicted)**2)\n",
    "\n",
    "print(\"Accuracy of model: %f\" % score)\n",
    "print(\"Mean Squared Error: %f\" % mseFull)"
   ]
  },
  {
   "cell_type": "code",
   "execution_count": 43,
   "metadata": {},
   "outputs": [],
   "source": [
    "################################\n",
    "### Imprimir el modelo\n",
    "################################\n",
    "from sklearn import tree\n",
    "text_representation = tree.export_text(dtr, feature_names=x_columns) # exportar el modelo en texto\n",
    "#print(text_representation) # descomentar para visualizar"
   ]
  },
  {
   "cell_type": "code",
   "execution_count": 44,
   "metadata": {},
   "outputs": [],
   "source": [
    "# import export_graphviz \n",
    "from sklearn.tree import export_graphviz  \n",
    "  \n",
    "# exportar el árbol a un archivo tree.dot \n",
    "export_graphviz(dtr, out_file ='tree.png', \n",
    "               feature_names = x_columns)"
   ]
  },
  {
   "cell_type": "markdown",
   "metadata": {},
   "source": [
    "### 1.3 Segundo experimento: usando como la parámetro la profundidad máxima"
   ]
  },
  {
   "cell_type": "code",
   "execution_count": 45,
   "metadata": {},
   "outputs": [
    {
     "name": "stdout",
     "output_type": "stream",
     "text": [
      "accuracy_score on train dataset :  0.9999816523941683\n",
      "Accuracy of model: 0.843212\n",
      "Mean Squared Error: 14875212.895583\n"
     ]
    }
   ],
   "source": [
    "dtr = DecisionTreeRegressor(random_state = 10,\n",
    "                            max_depth=13) # \n",
    "\n",
    "dtr.fit(X_train, y_train)\n",
    "\n",
    "predicted = dtr.predict(X_test)\n",
    "\n",
    "################################\n",
    "# Evaluación\n",
    "################################\n",
    "\n",
    "# Train dataset\n",
    "accuracy_train = dtr.score(X_train, y_train)\n",
    "print('accuracy_score on train dataset : ', accuracy_train)\n",
    "\n",
    "# Test dataset\n",
    "score = dtr.score(X_test,y_test)\n",
    "mseFull = np.mean((y_test - predicted)**2)\n",
    "\n",
    "print(\"Accuracy of model: %f\" % score)\n",
    "print(\"Mean Squared Error: %f\" % mseFull)"
   ]
  },
  {
   "cell_type": "markdown",
   "metadata": {},
   "source": [
    "### 1.4 Tercer experimento: usando otros parámetros"
   ]
  },
  {
   "cell_type": "code",
   "execution_count": 46,
   "metadata": {},
   "outputs": [
    {
     "name": "stdout",
     "output_type": "stream",
     "text": [
      "Depth of the Decision Tree : 11\n",
      "accuracy_score on train dataset :  0.9602708169443178\n",
      "Accuracy of model: 0.834058\n",
      "Mean Squared Error: 15743771.592010\n"
     ]
    }
   ],
   "source": [
    "dtr = DecisionTreeRegressor(random_state = 10,\n",
    "                            max_depth=13, \n",
    "                            min_samples_split=4,\n",
    "                           min_samples_leaf=4,\n",
    "                           max_features=1.0)\n",
    "\n",
    "\n",
    "dtr.fit(X_train, y_train)\n",
    "\n",
    "predicted = dtr.predict(X_test)\n",
    "\n",
    "print('Depth of the Decision Tree :', dtr.get_depth()) # depth of the decision tree\n",
    "\n",
    "\n",
    "################################\n",
    "# Evaluación\n",
    "################################\n",
    "\n",
    "# Train dataset\n",
    "\n",
    "accuracy_train = dtr.score(X_train, y_train)\n",
    "print('accuracy_score on train dataset : ', accuracy_train)\n",
    "\n",
    "# Test dataset\n",
    "score = dtr.score(X_test,y_test)\n",
    "mseFull = np.mean((y_test - predicted)**2)\n",
    "\n",
    "print(\"Accuracy of model: %f\" % score)\n",
    "print(\"Mean Squared Error: %f\" % mseFull)"
   ]
  },
  {
   "cell_type": "markdown",
   "metadata": {},
   "source": [
    "De lo anterior podemos ver que un árbol de decisión ha funcionado mejor que con los parámetros por defecto. \n",
    "\n",
    "Los árboles de decisión tienen varios hiperparámetros diferentes. Para intentar mejorar el modelo debemos hacer experimentos usando una  búsqueda en grids y validación cruzada."
   ]
  },
  {
   "cell_type": "markdown",
   "metadata": {},
   "source": [
    "### 1.5 Tuning mediante Grid Search & Cross Validation"
   ]
  },
  {
   "cell_type": "markdown",
   "metadata": {},
   "source": [
    "- Grid Search se utiliza para ejecutar un modelo repetidamente cada vez con diferentes parámetros especificados por el usuario.\n",
    "\n",
    "- Cross validation se utiliza para entrenar con subconjuntos de datos (chunks o folds), especificados por la opción \"cv\". El valor de cv principalmente depende del tamaño del conjunto de datos:\n",
    "    - Si el tamaño es pequeño: un número razonable pueden ser 10 o más; un número como este puede ser beneficioso porque permite utilizar una mayor proporción de datos para entrenamiento en cada iteración.\n",
    "    - Si el tamaño es grande: un número menor de folds como 5 suele ser suficiente y reduce el tiempo de computación."
   ]
  },
  {
   "cell_type": "code",
   "execution_count": null,
   "metadata": {},
   "outputs": [],
   "source": [
    "dtr = DecisionTreeRegressor(random_state=10, \n",
    "                            max_features=1.0)\n",
    "\n",
    "params = {'min_samples_split': range(2, 20, 2), #range(start, stop, step)\n",
    "          'min_samples_leaf': range(2, 20, 2),\n",
    "          'max_depth': range(5, 15)}\n",
    "    \n",
    "grid_search = GridSearchCV(dtr, param_grid=params, cv=10)\n",
    "grid_search.fit(X_train, y_train) #training\n",
    "\n",
    "# Obtener el mejor modelo\n",
    "best_model = grid_search.best_estimator_\n",
    "\n",
    "# Ver los mejores hiperparámetros encontrados\n",
    "print(\"Mejores hiperparámetros: \", grid_search.best_params_)\n"
   ]
  },
  {
   "cell_type": "code",
   "execution_count": null,
   "metadata": {},
   "outputs": [],
   "source": [
    "# Generar predicciones en el conjunto de prueba\n",
    "y_test_pred = best_model.predict(X_test)\n",
    "\n",
    "# Evaluar el rendimiento del mejor modelo:\n",
    "mse = mean_squared_error(y_test, y_test_pred)\n",
    "print(f\"Mean Squared Error en el conjunto de prueba: {mse}\")\n",
    "\n",
    "score = best_model.score(X_test, y_test) \n",
    "print(\"R^2 del mejor modelo: %f\" % score)"
   ]
  },
  {
   "cell_type": "markdown",
   "metadata": {},
   "source": [
    "## Random Forest Model"
   ]
  },
  {
   "cell_type": "markdown",
   "metadata": {},
   "source": [
    "Un bosque aleatorio, como su nombre indica, es una colección de árboles de decisión. \n",
    "\n",
    "Esto es particularmente útil ya que los árboles de decisión son propensos al sobreajuste (el sobreajuste. Un bosque aleatorio reduce esto en ejecutar cada árbol de decisión en un subconjunto diferente de datos y luego hace una predicción basada en la suma de las predicciones de todos los árboles del bosque."
   ]
  },
  {
   "cell_type": "markdown",
   "metadata": {},
   "source": [
    "#### Random Forest Parameters"
   ]
  },
  {
   "cell_type": "markdown",
   "metadata": {},
   "source": [
    "Como un bosque aleatorio es una colección de árboles de decisión, los parámetros son en gran medida los mismos. He anotado los principales parámetros forestales específicos a continuación.\n",
    "\n",
    " - <b>n_estimators</b>: La cantidad de árboles a utilizar para construir el modelo predictivo antes de tomar el promedio de ellos. Generalmente, cuanto más alto, mejor, pero también consume más CPU.\n",
    "   \n",
    " - <b>oob_score</b>: Esta es una validación cruzada integrada de los bosques aleatorios. Simplemente toma cada observación utilizada en diferentes árboles y encuentra la mejor puntuación.\n",
    "   \n",
    " - <b>n_jobs</b>: En un entorno multiprocesador, si se establece en '-1' significa que no hay restricciones en los núcleos de la CPU que puede usar el modelo. Si se establece en '1', por ejemplo, solo puede usar 1.\n"
   ]
  },
  {
   "cell_type": "code",
   "execution_count": null,
   "metadata": {},
   "outputs": [],
   "source": [
    "rf = RandomForestRegressor(n_estimators= 100, random_state = 10, oob_score=True,\n",
    "                           max_depth=7, min_samples_leaf=3, min_samples_split=7)\n",
    "\n",
    "\n",
    "rf.fit(X_train, y_train)\n",
    "predicted = rf.predict(X_test)\n",
    "rf_predictions = pd.DataFrame({'Actual':y_test,'Predicted':predicted})\n",
    "rf_score = rf.score(X_test,y_test)\n",
    "print(\"predicted score against actual: %f\" % rf_score)\n",
    "rf_predictions.head()"
   ]
  },
  {
   "cell_type": "markdown",
   "metadata": {},
   "source": [
    "#### Búsqueda de hiperparámetros:"
   ]
  },
  {
   "cell_type": "code",
   "execution_count": null,
   "metadata": {},
   "outputs": [],
   "source": [
    "params ={'max_depth':range(9,13),\n",
    "         'min_samples_leaf':range(1,3),\n",
    "         'min_samples_split':range(2,10,2)\n",
    "}\n",
    "grid_search = GridSearchCV(rf,param_grid=params,cv=10)\n",
    "grid_search.fit(X_train, y_train)\n",
    "\n",
    "\n",
    "print('Best score: {}'.format(grid_search.best_score_))\n",
    "print('Best parameters: {}'.format(grid_search.best_params_))\n",
    "\n",
    "predicted = grid_search.predict(X_test)\n",
    "\n",
    "grid_predictions = pd.DataFrame({'Actual':y_test,'Predicted':predicted})\n",
    "score = grid_search.score(X_test,y_test)\n",
    "print(\"predicted score against actual: %f\" % score)\n",
    "grid_predictions.head()\n"
   ]
  },
  {
   "cell_type": "markdown",
   "metadata": {},
   "source": [
    "De lo anterior podemos ver que el bosque aleatorio supera al árbol de decisión en un grado considerable. Al utilizar la búsqueda de cuadrícula, es posible que deba jugar con algunos parámetros y cambiar el modelo original como mejor le parezca. La razón es que si ejecuta gridsearch con una cuadrícula de parámetros grande, más tiempo tardará en ejecutarse, por lo que generalmente encuentro beneficioso comenzar con un rango grande con pasos grandes y reducirlo después de cada ejecución a un rango más pequeño con pasos más pequeños. . No he demostrado esto arriba porque ocuparía mucho espacio."
   ]
  },
  {
   "cell_type": "markdown",
   "metadata": {},
   "source": [
    "## Support Vector Regressor\n",
    "\n",
    "La Support Vector Regressor admite regresión lineal y no lineal. Su misión es encajar tantas observaciones tanto como sea posible entre líneas intentando no caer en los márgenes.\n",
    "\n",
    "Lo que se pretende con el SVM en regresión es buscar el hiperplano que mejor se ajuste a los datos y permita una tolerancia a los errores. En otras palabras, es una regresión lineal con restricciones.\n",
    "\n",
    "### Parámetros clave:\n",
    "\n",
    "- kernel: es el parámetro SVR más importante. Los kernels son funciones que transforman los datos en un espacio de mayor dimensión para facilitar la separación no lineal. Puede ser SVR lineal, polinomial o gaussiano.\n",
    "    - Si tenemos una relación no lineal, podemos seleccionar polinomial o gaussiano (RBF es un tipo gaussiano).\n",
    "- épsilon: representa al concepto de infracción o penalización que se aplica para las observaciones que caen fuera de los límites."
   ]
  },
  {
   "cell_type": "code",
   "execution_count": null,
   "metadata": {},
   "outputs": [],
   "source": [
    "svm = make_pipeline(StandardScaler(), SVR(kernel=\"rbf\", C=100, gamma=0.1, epsilon=0.1))\n",
    "svm.fit(X_train, y_train)\n"
   ]
  },
  {
   "cell_type": "code",
   "execution_count": null,
   "metadata": {},
   "outputs": [],
   "source": [
    "predicted = svm.predict(X_test)\n",
    "\n",
    "svm_predictions = pd.DataFrame({'Actual':y_test,'Predicted':predicted})\n",
    "\n",
    "svm_predictions[:5]\n",
    "\n",
    "################################\n",
    "#Model score \n",
    "################################\n",
    "\n",
    "# Train dataset\n",
    "\n",
    "accuracy_train = svm.score(X_train, y_train)\n",
    "print('Score en conjunto de  train : ', accuracy_train)\n",
    "\n",
    "# Test dataset\n",
    "score = svm.score(X_test,y_test)\n",
    "mseFull = np.mean((y_test - predicted)**2)\n",
    "\n",
    "print(\"Score en conjunto de test: %f\" % score)\n",
    "print(\"Mean Squared Error: %f\" % mseFull)"
   ]
  }
 ],
 "metadata": {
  "finalized": {
   "timestamp": 1625620808742,
   "trusted": true
  },
  "kernelspec": {
   "display_name": "Python 3 (ipykernel)",
   "language": "python",
   "name": "python3"
  },
  "language_info": {
   "codemirror_mode": {
    "name": "ipython",
    "version": 3
   },
   "file_extension": ".py",
   "mimetype": "text/x-python",
   "name": "python",
   "nbconvert_exporter": "python",
   "pygments_lexer": "ipython3",
   "version": "3.10.9"
  }
 },
 "nbformat": 4,
 "nbformat_minor": 4
}
